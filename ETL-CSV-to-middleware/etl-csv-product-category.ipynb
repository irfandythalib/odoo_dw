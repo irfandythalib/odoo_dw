{
 "cells": [
  {
   "cell_type": "code",
   "execution_count": 1,
   "metadata": {
    "ExecuteTime": {
     "end_time": "2022-06-13T03:21:34.372597Z",
     "start_time": "2022-06-13T03:21:33.130828Z"
    }
   },
   "outputs": [],
   "source": [
    "import psycopg2\n",
    "import csv"
   ]
  },
  {
   "cell_type": "code",
   "execution_count": 9,
   "metadata": {
    "ExecuteTime": {
     "end_time": "2022-06-13T03:24:18.287908Z",
     "start_time": "2022-06-13T03:24:18.238354Z"
    }
   },
   "outputs": [],
   "source": [
    "# Establishing the connection\n",
    "conn = psycopg2.connect(\n",
    "    database=\"odoo_middleware\",\n",
    "    user='postgres',\n",
    "    password='12345678',\n",
    "    host='localhost',\n",
    "    port='5432'\n",
    ")\n",
    "# Connection\n",
    "cursor = conn.cursor()"
   ]
  },
  {
   "cell_type": "code",
   "execution_count": 10,
   "metadata": {
    "ExecuteTime": {
     "end_time": "2022-06-13T03:24:18.694576Z",
     "start_time": "2022-06-13T03:24:18.680577Z"
    }
   },
   "outputs": [],
   "source": [
    "def check_if_exist(category_code_d):\n",
    "    exist = \"no\";\n",
    "    postgreSQL_select_Query = \"select * from product_category where category_code=%s\"\n",
    "    cursor.execute(postgreSQL_select_Query, (category_code_d,))\n",
    "    records = cursor.fetchall()\n",
    "    if(len(records) != 0):\n",
    "        exist = \"yes\";\n",
    "        \n",
    "    return exist;\n",
    "\n",
    "def check_name_different(category_code_d,category_name_d):\n",
    "    different = \"no\";\n",
    "    postgreSQL_select_Query = \"select * from product_category where category_code=%s\"\n",
    "    cursor.execute(postgreSQL_select_Query, (category_code_d,))\n",
    "    records = cursor.fetchall()\n",
    "    for m in records:\n",
    "        if(m[1] != category_name_d):\n",
    "            different = \"yes\";\n",
    "        \n",
    "    return different;"
   ]
  },
  {
   "cell_type": "code",
   "execution_count": 11,
   "metadata": {
    "ExecuteTime": {
     "end_time": "2022-06-13T03:24:19.532251Z",
     "start_time": "2022-06-13T03:24:19.364077Z"
    }
   },
   "outputs": [
    {
     "name": "stdout",
     "output_type": "stream",
     "text": [
      "['categ_1', 'Categ 1', '-']\n",
      "['categ_2', 'Categ 2', '-']\n",
      "['categ_3', 'Categ 3', '-']\n",
      "['categ_4', 'Categ 4', '-']\n",
      "['dept_1', 'Dept 1', 'categ_1']\n",
      "['dept_2', 'Dept 2', 'categ_2']\n",
      "['dept_3', 'Dept 3', 'categ_3']\n",
      "['dept_4', 'Dept 4', 'categ_4']\n",
      "['line_1', 'Line 1', 'dept_1']\n",
      "['line_2', 'Line 2', 'dept_2']\n",
      "['line_3', 'Line 3', 'dept_3']\n",
      "['line_4', 'Line 4', 'dept_4']\n",
      "['div_1', 'Division 1', 'div_1']\n",
      "['div_2', 'Division 2', 'div_2']\n",
      "['div_3', 'Division 3', 'div_3']\n",
      "['div_4', 'Division 4', 'div_4']\n"
     ]
    }
   ],
   "source": [
    "file = open('Master Data Product Category.csv')\n",
    "csvreader = csv.reader(file)\n",
    "next(csvreader, None)\n",
    "rows = []\n",
    "for row in csvreader:\n",
    "    #1. Insert: If code not exist\n",
    "    if(check_if_exist(row[0])) == \"no\": \n",
    "        postgres_insert_query = \"\"\" INSERT INTO product_category (category_code,category_name,parent_category) VALUES (%s,%s,%s)\"\"\"\n",
    "        record_to_insert = (row[0],row[1],row[2])\n",
    "        cursor.execute(postgres_insert_query, record_to_insert)\n",
    "        conn.commit()\n",
    "    #2. Update: If same category_code but different name\n",
    "    else:\n",
    "        if(check_name_different(row[0],row[1])) == \"yes\":\n",
    "            sql_update_query = \"\"\"Update product_category set category_name = %s where category_code = %s\"\"\"\n",
    "            cursor.execute(sql_update_query, (row[1], row[0]))\n",
    "            conn.commit()    \n",
    "file.close()"
   ]
  }
 ],
 "metadata": {
  "kernelspec": {
   "display_name": "Python 3",
   "language": "python",
   "name": "python3"
  },
  "language_info": {
   "codemirror_mode": {
    "name": "ipython",
    "version": 3
   },
   "file_extension": ".py",
   "mimetype": "text/x-python",
   "name": "python",
   "nbconvert_exporter": "python",
   "pygments_lexer": "ipython3",
   "version": "3.7.7"
  }
 },
 "nbformat": 4,
 "nbformat_minor": 4
}
