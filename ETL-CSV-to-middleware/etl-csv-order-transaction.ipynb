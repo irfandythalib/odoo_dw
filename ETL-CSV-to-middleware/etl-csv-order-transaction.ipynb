{
 "cells": [
  {
   "cell_type": "code",
   "execution_count": 1,
   "metadata": {
    "ExecuteTime": {
     "end_time": "2022-06-13T09:35:44.225001Z",
     "start_time": "2022-06-13T09:35:43.512202Z"
    }
   },
   "outputs": [],
   "source": [
    "import psycopg2\n",
    "import csv"
   ]
  },
  {
   "cell_type": "code",
   "execution_count": 20,
   "metadata": {
    "ExecuteTime": {
     "end_time": "2022-06-13T09:40:12.198110Z",
     "start_time": "2022-06-13T09:40:12.038893Z"
    }
   },
   "outputs": [],
   "source": [
    "# Establishing the connection\n",
    "conn = psycopg2.connect(\n",
    "    database=\"odoo_middleware\",\n",
    "    user='postgres',\n",
    "    password='12345678',\n",
    "    host='localhost',\n",
    "    port='5432'\n",
    ")\n",
    "# Connection\n",
    "# cursor = conn.cursor()"
   ]
  },
  {
   "cell_type": "code",
   "execution_count": 21,
   "metadata": {
    "ExecuteTime": {
     "end_time": "2022-06-13T09:40:12.268323Z",
     "start_time": "2022-06-13T09:40:12.236046Z"
    }
   },
   "outputs": [],
   "source": [
    "def check_if_exist(order):\n",
    "    postgreSQL_select_Query = \"select * from order_transaction where business_day=%s and product_code=%s and store_code=%s\"\n",
    "    cursor.execute(postgreSQL_select_Query, (order[0],order[1],order[3]))\n",
    "    records = cursor.fetchall()\n",
    "    if(len(records) != 0):\n",
    "        return records;\n",
    "    else:\n",
    "        return \"no\";\n",
    "        \n",
    "    return \"\"\n",
    "# def check_if_data_different(data_d):\n",
    "#     different = \"no\";\n",
    "#     postgreSQL_select_Query = \"select * from product where product_code=%s\"\n",
    "#     cursor.execute(postgreSQL_select_Query, (product_code_d,))\n",
    "#     records = cursor.fetchall()\n",
    "#     for m in records:\n",
    "#         if m[1] != data_d[1] or m[2] != data_d[2] or m[3] != data_d[3] or m[4] != data_d[4] or m[5] != data_d[5] or m[6] != data_d[6] or m[7] != data_d[7] or m[8] != data_d[8] or m[9]!=data_d[9]:\n",
    "#             return \"yes\";\n",
    "        \n",
    "#     return different;"
   ]
  },
  {
   "cell_type": "code",
   "execution_count": 16,
   "metadata": {
    "ExecuteTime": {
     "end_time": "2022-06-13T09:38:13.980139Z",
     "start_time": "2022-06-13T09:38:13.944570Z"
    }
   },
   "outputs": [],
   "source": [
    "cursor = conn.cursor()\n",
    "file = open('Order Transactions.csv')\n",
    "csvreader = csv.reader(file)\n",
    "next(csvreader, None)\n",
    "rows = []\n",
    "for row in csvreader:\n",
    "    total = int(row[4])+int(row[5])+int(row[6])+int(row[7])+int(row[8])+int(row[9])+int(row[10])+int(row[11])+int(row[12])+int(row[13])+int(row[14])+int(row[15])+int(row[16])+int(row[17])+int(row[18])+int(row[19])+int(row[20])+int(row[21])+int(row[22])+int(row[23])+int(row[24])+int(row[25])+int(row[26])+int(row[27])\n",
    "    try:\n",
    "        #1. Insert: If code not exist\n",
    "        if(check_if_exist(row)) == \"no\": \n",
    "            postgres_insert_query = \"\"\" INSERT INTO order_transaction (\n",
    "            business_day,\n",
    "            product_code,\n",
    "            store_code,\n",
    "            qty_1,\n",
    "            qty_2,\n",
    "            qty_3,\n",
    "            qty_4,\n",
    "            qty_5,\n",
    "            qty_6,\n",
    "            qty_7,\n",
    "            qty_8,\n",
    "            qty_9,\n",
    "            qty_10,\n",
    "            qty_11,\n",
    "            qty_12,\n",
    "            qty_13,\n",
    "            qty_14,\n",
    "            qty_15,\n",
    "            qty_16,\n",
    "            qty_17,\n",
    "            qty_18,\n",
    "            qty_19,\n",
    "            qty_20,\n",
    "            qty_21,\n",
    "            qty_22,\n",
    "            qty_23,\n",
    "            qty_24,\n",
    "            qty_total\n",
    "            ) VALUES (%s,%s,%s,%s,%s,%s,%s,%s,%s,%s,%s,%s,%s,%s,%s,%s,%s,%s,%s,%s,%s,%s,%s,%s,%s,%s,%s,%s)\"\"\"\n",
    "            record_to_insert = (row[0],row[1],row[3],int(row[4]),int(row[5]),int(row[6]),int(row[7]),int(row[8]),int(row[9]), int(row[10]),int(row[11]),int(row[12]),int(row[13]),int(row[14]),int(row[15]),int(row[16]),int(row[17]),int(row[18]),int(row[19]), int(row[20]),int(row[21]),int(row[22]),int(row[23]),int(row[24]),int(row[25]),int(row[26]),int(row[26]),int(row[27]),total)\n",
    "            cursor.execute(postgres_insert_query, record_to_insert)\n",
    "            conn.commit()\n",
    "    \n",
    "        #2. Update: If date, product code and store exist\n",
    "        else:\n",
    "            datas = check_if_exist(row);\n",
    "            \n",
    "            qty_1_new = datas[3] + int(row[4]);\n",
    "            qty_2_new = datas[4] + int(row[5]);\n",
    "            qty_3_new = datas[5] + int(row[6]);\n",
    "            qty_4_new = datas[6] + int(row[7]);\n",
    "            qty_5_new = datas[7] + int(row[8]);\n",
    "            qty_6_new = datas[8] + int(row[9]);\n",
    "            qty_7_new = datas[9] + int(row[10]);\n",
    "            qty_8_new = datas[10] + int(row[11]);\n",
    "            qty_9_new = datas[11] + int(row[12]);\n",
    "            qty_10_new = datas[12] + int(row[13]);\n",
    "            qty_11_new = datas[13] + int(row[14]);\n",
    "            qty_12_new = datas[14] + int(row[15]);\n",
    "            qty_13_new = datas[15] + int(row[16]);\n",
    "            qty_14_new = datas[16] + int(row[17]);\n",
    "            qty_15_new = datas[17] + int(row[18]);\n",
    "            qty_16_new = datas[18] + int(row[19]);\n",
    "            qty_17_new = datas[19] + int(row[20]);\n",
    "            qty_18_new = datas[20] + int(row[21]);\n",
    "            qty_19_new = datas[21] + int(row[22]);\n",
    "            qty_20_new = datas[22] + int(row[23]);\n",
    "            qty_21_new = datas[23] + int(row[24]);\n",
    "            qty_22_new = datas[24] + int(row[25]);\n",
    "            qty_23_new = datas[25] + int(row[26]);\n",
    "            qty_24_new = datas[26] + int(row[27]);\n",
    "            \n",
    "            totals = qty_1_new+qty_2_new+qty_3_new+qty_4_new+qty_5_new+qty_6_new+qty_7_new+qty_8_new+qty_9_new+qty_10_new+qty_11_new+qty_12_new+qty_13_new+qty_14_new+qty_15_new+qty_16_new+qty_17_new+qty_18_new+qty_19_new+qty_20_new+qty_21_new+qty_22_new+qty_23_new+qty_24_new\n",
    "            qty_total_new = totals;\n",
    "            sql_update_query = \"\"\"Update order_transaction set \n",
    "            qty_1 = %s,\n",
    "            qty_2 = %s,\n",
    "            qty_3 = %s,\n",
    "            qty_4 = %s,\n",
    "            qty_5 = %s,\n",
    "            qty_6 = %s,\n",
    "            qty_7 = %s,\n",
    "            qty_8 = %s,\n",
    "            qty_9 = %s,\n",
    "            qty_10 = %s,\n",
    "            qty_11 = %s,\n",
    "            qty_12 = %s,\n",
    "            qty_13 = %s,\n",
    "            qty_14 = %s,\n",
    "            qty_15 = %s,\n",
    "            qty_16 = %s,\n",
    "            qty_17 = %s,\n",
    "            qty_18 = %s,\n",
    "            qty_19 = %s,\n",
    "            qty_20 = %s,\n",
    "            qty_21 = %s,\n",
    "            qty_22 = %s,\n",
    "            qty_23 = %s,\n",
    "            qty_24 = %s,\n",
    "            qty_total = %s\n",
    "            \n",
    "            where business_day=%s and product_code=%s and store_code=%s\n",
    "            \"\"\"\n",
    "            cursor.execute(sql_update_query, (qty_1_new,qty_2_new,qty_3_new,qty_4_new,qty_5_new,qty_6_new,qty_7_new,qty_8_new,qty_9_new,qty_10_new,qty_11_new,qty_12_new,qty_13_new,qty_14_new,qty_15_new,qty_16_new,qty_17_new,qty_18_new,qty_19_new,qty_20_new,qty_21_new,qty_22_new,qty_23_new,qty_24_new,qty_total_new,row[0],row[1],row[3]))\n",
    "            conn.commit()   \n",
    "    except:\n",
    "        print(row)\n",
    "# file.close()"
   ]
  }
 ],
 "metadata": {
  "kernelspec": {
   "display_name": "Python 3",
   "language": "python",
   "name": "python3"
  },
  "language_info": {
   "codemirror_mode": {
    "name": "ipython",
    "version": 3
   },
   "file_extension": ".py",
   "mimetype": "text/x-python",
   "name": "python",
   "nbconvert_exporter": "python",
   "pygments_lexer": "ipython3",
   "version": "3.7.7"
  }
 },
 "nbformat": 4,
 "nbformat_minor": 4
}
