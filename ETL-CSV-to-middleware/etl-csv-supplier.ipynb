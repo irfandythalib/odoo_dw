{
 "cells": [
  {
   "cell_type": "code",
   "execution_count": 1,
   "metadata": {
    "ExecuteTime": {
     "end_time": "2022-06-13T06:19:18.241664Z",
     "start_time": "2022-06-13T06:19:17.403016Z"
    }
   },
   "outputs": [],
   "source": [
    "import psycopg2\n",
    "import csv"
   ]
  },
  {
   "cell_type": "code",
   "execution_count": 7,
   "metadata": {
    "ExecuteTime": {
     "end_time": "2022-06-13T06:22:48.851140Z",
     "start_time": "2022-06-13T06:22:48.761240Z"
    }
   },
   "outputs": [],
   "source": [
    "# Establishing the connection\n",
    "conn = psycopg2.connect(\n",
    "    database=\"odoo_middleware\",\n",
    "    user='postgres',\n",
    "    password='12345678',\n",
    "    host='localhost',\n",
    "    port='5432'\n",
    ")\n",
    "# Connection\n",
    "cursor = conn.cursor()"
   ]
  },
  {
   "cell_type": "code",
   "execution_count": 8,
   "metadata": {
    "ExecuteTime": {
     "end_time": "2022-06-13T06:22:49.067973Z",
     "start_time": "2022-06-13T06:22:49.043958Z"
    }
   },
   "outputs": [],
   "source": [
    "def check_if_exist(supplier_code_d):\n",
    "    exist = \"no\";\n",
    "    postgreSQL_select_Query = \"select * from supplier where supplier_code=%s\"\n",
    "    cursor.execute(postgreSQL_select_Query, (supplier_code_d,))\n",
    "    records = cursor.fetchall()\n",
    "    if(len(records) != 0):\n",
    "        exist = \"yes\";\n",
    "        \n",
    "    return exist;\n",
    "\n",
    "def check_name_different(supplier_code_d,supplier_name_d):\n",
    "    different = \"no\";\n",
    "    postgreSQL_select_Query = \"select * from supplier where supplier_code=%s\"\n",
    "    cursor.execute(postgreSQL_select_Query, (supplier_code_d,))\n",
    "    records = cursor.fetchall()\n",
    "    for m in records:\n",
    "        if(m[1] != supplier_name_d):\n",
    "            different = \"yes\";\n",
    "        \n",
    "    return different;"
   ]
  },
  {
   "cell_type": "code",
   "execution_count": 9,
   "metadata": {
    "ExecuteTime": {
     "end_time": "2022-06-13T06:22:53.545037Z",
     "start_time": "2022-06-13T06:22:50.539537Z"
    }
   },
   "outputs": [],
   "source": [
    "file = open('Master Data Supplier.csv')\n",
    "csvreader = csv.reader(file)\n",
    "next(csvreader, None)\n",
    "rows = []\n",
    "for row in csvreader:\n",
    "    #1. Insert: If code not exist\n",
    "    if(check_if_exist(row[0])) == \"no\": \n",
    "        postgres_insert_query = \"\"\" INSERT INTO supplier (supplier_code,supplier_name) VALUES (%s,%s)\"\"\"\n",
    "        record_to_insert = (row[0],row[1])\n",
    "        cursor.execute(postgres_insert_query, record_to_insert)\n",
    "        conn.commit()\n",
    "    #2. Update: If same supplier_code but different name\n",
    "    else:\n",
    "        if(check_name_different(row[0],row[1])) == \"yes\":\n",
    "            sql_update_query = \"\"\"Update supplier set supplier_name = %s where supplier_code = %s\"\"\"\n",
    "            cursor.execute(sql_update_query, (row[1], row[0]))\n",
    "            conn.commit()    \n",
    "file.close()"
   ]
  }
 ],
 "metadata": {
  "kernelspec": {
   "display_name": "Python 3",
   "language": "python",
   "name": "python3"
  },
  "language_info": {
   "codemirror_mode": {
    "name": "ipython",
    "version": 3
   },
   "file_extension": ".py",
   "mimetype": "text/x-python",
   "name": "python",
   "nbconvert_exporter": "python",
   "pygments_lexer": "ipython3",
   "version": "3.7.7"
  }
 },
 "nbformat": 4,
 "nbformat_minor": 4
}
