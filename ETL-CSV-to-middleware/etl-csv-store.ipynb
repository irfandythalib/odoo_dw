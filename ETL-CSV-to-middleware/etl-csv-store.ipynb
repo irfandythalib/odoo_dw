{
 "cells": [
  {
   "cell_type": "code",
   "execution_count": 16,
   "metadata": {
    "ExecuteTime": {
     "end_time": "2022-06-13T01:08:03.513921Z",
     "start_time": "2022-06-13T01:08:03.190844Z"
    }
   },
   "outputs": [],
   "source": [
    "import psycopg2\n",
    "import csv"
   ]
  },
  {
   "cell_type": "code",
   "execution_count": 1,
   "metadata": {
    "ExecuteTime": {
     "end_time": "2022-06-13T09:35:28.179855Z",
     "start_time": "2022-06-13T09:35:28.004306Z"
    }
   },
   "outputs": [
    {
     "ename": "NameError",
     "evalue": "name 'psycopg2' is not defined",
     "output_type": "error",
     "traceback": [
      "\u001b[1;31m---------------------------------------------------------------------------\u001b[0m",
      "\u001b[1;31mNameError\u001b[0m                                 Traceback (most recent call last)",
      "\u001b[1;32m<ipython-input-1-d5866dfe8b24>\u001b[0m in \u001b[0;36m<module>\u001b[1;34m\u001b[0m\n\u001b[0;32m      1\u001b[0m \u001b[1;31m# Establishing the connection\u001b[0m\u001b[1;33m\u001b[0m\u001b[1;33m\u001b[0m\u001b[1;33m\u001b[0m\u001b[0m\n\u001b[1;32m----> 2\u001b[1;33m conn = psycopg2.connect(\n\u001b[0m\u001b[0;32m      3\u001b[0m     \u001b[0mdatabase\u001b[0m\u001b[1;33m=\u001b[0m\u001b[1;34m\"odoo_middleware\"\u001b[0m\u001b[1;33m,\u001b[0m\u001b[1;33m\u001b[0m\u001b[1;33m\u001b[0m\u001b[0m\n\u001b[0;32m      4\u001b[0m     \u001b[0muser\u001b[0m\u001b[1;33m=\u001b[0m\u001b[1;34m'postgres'\u001b[0m\u001b[1;33m,\u001b[0m\u001b[1;33m\u001b[0m\u001b[1;33m\u001b[0m\u001b[0m\n\u001b[0;32m      5\u001b[0m     \u001b[0mpassword\u001b[0m\u001b[1;33m=\u001b[0m\u001b[1;34m'12345678'\u001b[0m\u001b[1;33m,\u001b[0m\u001b[1;33m\u001b[0m\u001b[1;33m\u001b[0m\u001b[0m\n",
      "\u001b[1;31mNameError\u001b[0m: name 'psycopg2' is not defined"
     ]
    }
   ],
   "source": [
    "# Establishing the connection\n",
    "conn = psycopg2.connect(\n",
    "    database=\"odoo_middleware\",\n",
    "    user='postgres',\n",
    "    password='12345678',\n",
    "    host='localhost',\n",
    "    port='5432'\n",
    ")\n",
    "# Connection\n",
    "cursor = conn.cursor()"
   ]
  },
  {
   "cell_type": "code",
   "execution_count": 2,
   "metadata": {
    "ExecuteTime": {
     "end_time": "2022-06-13T09:35:28.412800Z",
     "start_time": "2022-06-13T09:35:28.397174Z"
    }
   },
   "outputs": [],
   "source": [
    "def check_if_exist(store_code_d):\n",
    "    exist = \"no\";\n",
    "    postgreSQL_select_Query = \"select * from store where store_code=%s\"\n",
    "    cursor.execute(postgreSQL_select_Query, (store_code_d,))\n",
    "    records = cursor.fetchall()\n",
    "    if(len(records) != 0):\n",
    "        exist = \"yes\";\n",
    "        \n",
    "    return exist;\n",
    "\n",
    "def check_name_different(store_code_d,store_name_d):\n",
    "    different = \"no\";\n",
    "    postgreSQL_select_Query = \"select * from store where store_code=%s\"\n",
    "    cursor.execute(postgreSQL_select_Query, (store_code_d,))\n",
    "    records = cursor.fetchall()\n",
    "    for m in records:\n",
    "        if(m[1] != store_name_d):\n",
    "            different = \"yes\";\n",
    "        \n",
    "    return different;"
   ]
  },
  {
   "cell_type": "code",
   "execution_count": 115,
   "metadata": {
    "ExecuteTime": {
     "end_time": "2022-06-13T02:55:07.216497Z",
     "start_time": "2022-06-13T02:55:06.749447Z"
    }
   },
   "outputs": [],
   "source": [
    "file = open('Master Data Store.csv')\n",
    "csvreader = csv.reader(file)\n",
    "next(csvreader, None)\n",
    "rows = []\n",
    "for row in csvreader:\n",
    "    #1. Insert: If not exist\n",
    "    if(check_if_exist(row[0])) == \"no\": \n",
    "        postgres_insert_query = \"\"\" INSERT INTO store (store_code,store_name, store_district) VALUES (%s,%s,%s)\"\"\"\n",
    "        record_to_insert = (row[0],row[1],row[2])\n",
    "        cursor.execute(postgres_insert_query, record_to_insert)\n",
    "        conn.commit()\n",
    "    #2. Update: If same store_code but different name\n",
    "    else:\n",
    "        if(check_name_different(row[0],row[1])) == \"yes\":\n",
    "            sql_update_query = \"\"\"Update store set store_name = %s where store_code = %s\"\"\"\n",
    "            cursor.execute(sql_update_query, (row[1], row[0]))\n",
    "            conn.commit()    \n",
    "file.close()"
   ]
  }
 ],
 "metadata": {
  "kernelspec": {
   "display_name": "Python 3",
   "language": "python",
   "name": "python3"
  },
  "language_info": {
   "codemirror_mode": {
    "name": "ipython",
    "version": 3
   },
   "file_extension": ".py",
   "mimetype": "text/x-python",
   "name": "python",
   "nbconvert_exporter": "python",
   "pygments_lexer": "ipython3",
   "version": "3.7.7"
  }
 },
 "nbformat": 4,
 "nbformat_minor": 4
}
